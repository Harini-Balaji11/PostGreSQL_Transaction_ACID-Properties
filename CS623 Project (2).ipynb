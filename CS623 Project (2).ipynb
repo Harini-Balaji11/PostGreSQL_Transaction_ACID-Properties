{
 "cells": [
  {
   "cell_type": "code",
   "execution_count": 2,
   "id": "4f3a8e66-0252-4645-a86a-ff6265b6ed15",
   "metadata": {},
   "outputs": [
    {
     "name": "stdout",
     "output_type": "stream",
     "text": [
      "Collecting psycopg2\n",
      "  Downloading psycopg2-2.9.10-cp312-cp312-win_amd64.whl.metadata (5.0 kB)\n",
      "Downloading psycopg2-2.9.10-cp312-cp312-win_amd64.whl (1.2 MB)\n",
      "   ---------------------------------------- 0.0/1.2 MB ? eta -:--:--\n",
      "   - -------------------------------------- 0.1/1.2 MB 2.7 MB/s eta 0:00:01\n",
      "   ----- ---------------------------------- 0.2/1.2 MB 1.8 MB/s eta 0:00:01\n",
      "   --------- ------------------------------ 0.3/1.2 MB 2.3 MB/s eta 0:00:01\n",
      "   --------------- ------------------------ 0.5/1.2 MB 2.9 MB/s eta 0:00:01\n",
      "   ---------------------------- ----------- 0.8/1.2 MB 4.0 MB/s eta 0:00:01\n",
      "   ---------------------------------------  1.2/1.2 MB 4.6 MB/s eta 0:00:01\n",
      "   ---------------------------------------- 1.2/1.2 MB 4.6 MB/s eta 0:00:00\n",
      "Installing collected packages: psycopg2\n",
      "Successfully installed psycopg2-2.9.10\n",
      "Note: you may need to restart the kernel to use updated packages.\n"
     ]
    }
   ],
   "source": [
    "pip install psycopg2"
   ]
  },
  {
   "cell_type": "code",
   "execution_count": 40,
   "id": "c6a3e74f-c900-4ee2-97e6-f473afc32265",
   "metadata": {},
   "outputs": [
    {
     "name": "stdout",
     "output_type": "stream",
     "text": [
      "('p3        ', 'd4        ', 2000)\n",
      "('p2        ', 'd4        ', 1500)\n",
      "('p2        ', 'd2        ', 2000)\n",
      "('p100      ', 'd2        ', 50)\n",
      "PostgreSQL connection is now closed\n"
     ]
    }
   ],
   "source": [
    "import psycopg2\n",
    "from tabulate import tabulate\n",
    "\n",
    "con = psycopg2.connect(\n",
    "    host=\"localhost\",\n",
    "    database=\"postgres\",\n",
    "    user=\"postgres\",\n",
    "    password=\"Miffy\")\n",
    "\n",
    "\n",
    "\n",
    "#For isolation: SERIALIZABLE\n",
    "con.set_isolation_level(3)\n",
    "#For atomicity\n",
    "con.autocommit = False\n",
    "\n",
    "try:\n",
    "    cur = con.cursor()\n",
    "\n",
    "    cur.execute(\"ALTER TABLE Stock ADD CONSTRAINT fk_depot FOREIGN KEY(dep_id) REFERENCES depot(dep_id) ON UPDATE CASCADE ON DELETE CASCADE\");\n",
    "    cur.execute(\"ALTER TABLE Stock ADD CONSTRAINT fk_product FOREIGN KEY(prod_id) REFERENCES product(prod_id) ON UPDATE CASCADE ON DELETE CASCADE\");\n",
    "    \n",
    "    #5 We add a product (p100, cd, 5) in Product and (p100, d2, 50) in Stock.\n",
    "    cur.execute(\"insert into product values ('p100','cd',5)\")\n",
    "    cur.execute(\"insert into stock values ('p100','d2',50)\")\n",
    "    \n",
    "    #6 We add a depot (d100, Chicago, 100) in Depot and (p1, d100, 100) in Stock.\n",
    "    cur.execute(\"insert into depot values ('d100','Chicago',100)\")\n",
    "    cur.execute(\"insert into stock values ('p1','d100',100)\")\n",
    "\n",
    "    # #3 The product p1 changes its name to pp1 in Product and Stock.\n",
    "    cur.execute(\"update product set prod_id = 'pp1' where prod_id ='p1'\")\n",
    "    # # Since we have added the on update and on delete cascade, we do not need to execute below query to update stock. Chnages in product will auto reflect in stock\n",
    "    # #cur.execute(\"update stock set prod_id = 'pp1' where prod_id ='p1'\")\n",
    "\n",
    "    # #4 The depot d1 changes its name to dd1 in Depot and Stock.\n",
    "    cur.execute(\"update depot set dep_id = 'dd1' where dep_id ='d1'\")\n",
    "    # # Since we have added the on update and on delete cascade, we do not need to execute below query to update stock. Changes in depot will auto reflect in stock\n",
    "    # #cur.execute(\"update stock set dep_id = 'dd1' where dep_id ='d1'\")\n",
    "\n",
    "   # #1 The product p1 is deleted from Product and Stock.\n",
    "    cur.execute(\"delete from product where prod_id='pp1'\")\n",
    "    # # Since we have added the on update and on delete cascade, we do not need to execute below query to update stock. Changes in product will auto reflect in stock\n",
    "    # #cur.execute(\"delete from stock where prod_id='pp1'\")\n",
    "\n",
    "    # #2 The depot d1 is deleted from Depot and Stock.\n",
    "    cur.execute(\"delete from depot where dep_id='dd1'\")\n",
    "    # # Since we have added the on update and on delete cascade, we do not need to execute below query to update stock. Changes in depot will auto reflect in stock\n",
    "    # #cur.execute(\"delete from stock where dep_id='dd1'\")\n",
    "    \n",
    "    cur.execute(\"select * from stock\")\n",
    "    \n",
    "    rows = cur.fetchall()\n",
    "    for row in rows:\n",
    "        print(row)\n",
    "\n",
    "except (Exception, psycopg2.DatabaseError) as err:\n",
    "    print(err)\n",
    "    print(\"Transactions could not be completed so database will be rolled back before start of transactions\")\n",
    "    con.rollback()\n",
    "finally:\n",
    "    if con:\n",
    "        con.commit()\n",
    "        cur.close\n",
    "        con.close\n",
    "        print(\"PostgreSQL connection is now closed\")\n"
   ]
  },
  {
   "cell_type": "code",
   "execution_count": null,
   "id": "89fa77e1-e058-4ff2-a240-b73091d626bb",
   "metadata": {},
   "outputs": [],
   "source": []
  }
 ],
 "metadata": {
  "kernelspec": {
   "display_name": "Python 3 (ipykernel)",
   "language": "python",
   "name": "python3"
  },
  "language_info": {
   "codemirror_mode": {
    "name": "ipython",
    "version": 3
   },
   "file_extension": ".py",
   "mimetype": "text/x-python",
   "name": "python",
   "nbconvert_exporter": "python",
   "pygments_lexer": "ipython3",
   "version": "3.12.3"
  }
 },
 "nbformat": 4,
 "nbformat_minor": 5
}
