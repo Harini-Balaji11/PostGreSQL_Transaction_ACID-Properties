{
 "cells": [
  {
   "cell_type": "code",
   "execution_count": 2,
   "id": "4f3a8e66-0252-4645-a86a-ff6265b6ed15",
   "metadata": {},
   "outputs": [
    {
     "name": "stdout",
     "output_type": "stream",
     "text": [
      "Collecting psycopg2\n",
      "  Downloading psycopg2-2.9.10-cp312-cp312-win_amd64.whl.metadata (5.0 kB)\n",
      "Downloading psycopg2-2.9.10-cp312-cp312-win_amd64.whl (1.2 MB)\n",
      "   ---------------------------------------- 0.0/1.2 MB ? eta -:--:--\n",
      "   - -------------------------------------- 0.1/1.2 MB 2.7 MB/s eta 0:00:01\n",
      "   ----- ---------------------------------- 0.2/1.2 MB 1.8 MB/s eta 0:00:01\n",
      "   --------- ------------------------------ 0.3/1.2 MB 2.3 MB/s eta 0:00:01\n",
      "   --------------- ------------------------ 0.5/1.2 MB 2.9 MB/s eta 0:00:01\n",
      "   ---------------------------- ----------- 0.8/1.2 MB 4.0 MB/s eta 0:00:01\n",
      "   ---------------------------------------  1.2/1.2 MB 4.6 MB/s eta 0:00:01\n",
      "   ---------------------------------------- 1.2/1.2 MB 4.6 MB/s eta 0:00:00\n",
      "Installing collected packages: psycopg2\n",
      "Successfully installed psycopg2-2.9.10\n",
      "Note: you may need to restart the kernel to use updated packages.\n"
     ]
    }
   ],
   "source": [
    "pip install psycopg2"
   ]
  },
  {
   "cell_type": "code",
   "execution_count": 14,
   "id": "21947284-167b-4083-94a3-5d6b80e4500c",
   "metadata": {},
   "outputs": [],
   "source": [
    "import psycopg2\n",
    "from psycopg2 import sql\n",
    "\n",
    "# Database connection setup\n",
    "def connect_to_db():\n",
    "    return psycopg2.connect(\n",
    "        dbname=\"postgres\",\n",
    "        user=\"postgres\",\n",
    "        password=\"Miffy\",\n",
    "        host=\"localhost\",\n",
    "        port=\"5432\"\n",
    "    )\n",
    "\n",
    "# Transaction: Delete a product and its stock\n",
    "def delete_product(cursor, product_id):\n",
    "    # Ensure 'prod_id' is a string in the SQL query, and 'product_id' is passed as a parameter\n",
    "    cursor.execute(\"DELETE FROM Stock WHERE prod_id = %s\", (product_id,))\n",
    "    cursor.execute(\"DELETE FROM Product WHERE prod_id = %s\", (product_id,))\n",
    "\n",
    "\n",
    "# Transaction: Delete a depot and its stock\n",
    "def delete_depot(cursor, depot_id):\n",
    "    cursor.execute(\"DELETE FROM Stock WHERE dep_id = %s\", (depot_id,))\n",
    "    cursor.execute(\"DELETE FROM Depot WHERE dep_id = %s\", (depot_id,))\n"
   ]
  },
  {
   "cell_type": "code",
   "execution_count": 15,
   "id": "57158224-8223-4efd-8b36-8bc44fb78500",
   "metadata": {},
   "outputs": [
    {
     "name": "stdout",
     "output_type": "stream",
     "text": [
      "Transactions completed successfully.\n"
     ]
    }
   ],
   "source": [
    "def main():\n",
    "    try:\n",
    "        # Connect to the database\n",
    "        connection = connect_to_db()\n",
    "        connection.autocommit = False  # Enable transactions\n",
    "        cursor = connection.cursor()\n",
    "\n",
    "        # Example transactions\n",
    "        delete_product(cursor, 'p1')  # Deleting a product\n",
    "        delete_depot(cursor, 'd1')  # Deleting a depot\n",
    "\n",
    "        # Commit the transactions\n",
    "        connection.commit()\n",
    "        print(\"Transactions completed successfully.\")\n",
    "    except Exception as e:\n",
    "        # Rollback in case of an error\n",
    "        if connection:\n",
    "            connection.rollback()\n",
    "        print(f\"An error occurred: {e}\")\n",
    "    finally:\n",
    "        # Close the connection\n",
    "        if cursor:\n",
    "            cursor.close()\n",
    "        if connection:\n",
    "            connection.close()\n",
    "if __name__ == \"__main__\":\n",
    "    main()"
   ]
  },
  {
   "cell_type": "code",
   "execution_count": null,
   "id": "c6a3e74f-c900-4ee2-97e6-f473afc32265",
   "metadata": {},
   "outputs": [],
   "source": []
  }
 ],
 "metadata": {
  "kernelspec": {
   "display_name": "Python 3 (ipykernel)",
   "language": "python",
   "name": "python3"
  },
  "language_info": {
   "codemirror_mode": {
    "name": "ipython",
    "version": 3
   },
   "file_extension": ".py",
   "mimetype": "text/x-python",
   "name": "python",
   "nbconvert_exporter": "python",
   "pygments_lexer": "ipython3",
   "version": "3.12.3"
  }
 },
 "nbformat": 4,
 "nbformat_minor": 5
}
